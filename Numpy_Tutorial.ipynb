{
 "cells": [
  {
   "cell_type": "markdown",
   "id": "6f213ed0",
   "metadata": {},
   "source": [
    "NumPy stands for \"Numerical Python\" and is one of the most useful scientific libraries in Python programming. It provides support for large multidimensional array objects and various tools to work with them. "
   ]
  },
  {
   "cell_type": "markdown",
   "id": "e4da400a",
   "metadata": {},
   "source": [
    "An array of one dimension is called a \"Vector\" while having two dimensions is called a \"Matrix\"."
   ]
  },
  {
   "cell_type": "markdown",
   "id": "ced42163",
   "metadata": {},
   "source": [
    "NumPy arrays are called ndarray or N-dimensional arrays and they store elements of the same type and size. It is known for its high-performance and provides efficient storage and data operations as arrays grow in size."
   ]
  },
  {
   "cell_type": "markdown",
   "id": "187f56d8",
   "metadata": {},
   "source": [
    "NumPy comes pre-installed when you download Anaconda. But if you want to install NumPy separately on your machine, just type the below command on your terminal:\n",
    "\n",
    "\"pip install numpy\""
   ]
  },
  {
   "cell_type": "markdown",
   "id": "b84f557e",
   "metadata": {},
   "source": [
    "Now you need to import the library:"
   ]
  },
  {
   "cell_type": "code",
   "execution_count": 74,
   "id": "5c167c4a",
   "metadata": {},
   "outputs": [],
   "source": [
    "import numpy as np"
   ]
  },
  {
   "cell_type": "markdown",
   "id": "2c718b3b",
   "metadata": {},
   "source": [
    "np is the de facto abbreviation for NumPy used by the data science community."
   ]
  },
  {
   "cell_type": "markdown",
   "id": "255b60b9",
   "metadata": {},
   "source": [
    "Python Lists vs NumPy Arrays – What’s the Difference?\n",
    "------------------------------------------------------------------------------\n",
    "\n",
    "Python lists are essentially an array of pointers, each pointing to a location that contains the information related to the element. This adds a lot of overhead in terms of memory and computation.\n",
    "\n",
    "To overcome this problem, we use NumPy arrays that contain only homogeneous elements, i.e. elements having the same data type. This makes it more efficient at storing and manipulating the array."
   ]
  },
  {
   "cell_type": "markdown",
   "id": "884429f3",
   "metadata": {},
   "source": [
    "1.Creating a NumPy Array\n",
    "------------------------------------"
   ]
  },
  {
   "cell_type": "code",
   "execution_count": 75,
   "id": "897d9e1a",
   "metadata": {},
   "outputs": [
    {
     "data": {
      "text/plain": [
       "array([1, 2, 3, 4])"
      ]
     },
     "execution_count": 75,
     "metadata": {},
     "output_type": "execute_result"
    }
   ],
   "source": [
    "np.array([1,2,3,4])"
   ]
  },
  {
   "cell_type": "code",
   "execution_count": 76,
   "id": "80a92f38",
   "metadata": {},
   "outputs": [
    {
     "data": {
      "text/plain": [
       "array([1., 2., 3., 4.], dtype=float32)"
      ]
     },
     "execution_count": 76,
     "metadata": {},
     "output_type": "execute_result"
    }
   ],
   "source": [
    "np.array([1,2,3,4],dtype=np.float32)"
   ]
  },
  {
   "cell_type": "markdown",
   "id": "02a8e428",
   "metadata": {},
   "source": [
    "Since NumPy arrays can contain only homogeneous datatypes, values will be upcast if the types do not match:"
   ]
  },
  {
   "cell_type": "code",
   "execution_count": 77,
   "id": "84c1ec14",
   "metadata": {},
   "outputs": [
    {
     "data": {
      "text/plain": [
       "array([1., 2., 3., 4.])"
      ]
     },
     "execution_count": 77,
     "metadata": {},
     "output_type": "execute_result"
    }
   ],
   "source": [
    "np.array([1,2.0,3,4])"
   ]
  },
  {
   "cell_type": "markdown",
   "id": "30150fb9",
   "metadata": {},
   "source": [
    "NumPy arrays can be multi-dimensional too."
   ]
  },
  {
   "cell_type": "code",
   "execution_count": 78,
   "id": "61eb53b7",
   "metadata": {},
   "outputs": [
    {
     "data": {
      "text/plain": [
       "array([[1, 2, 3, 4],\n",
       "       [5, 6, 7, 8]])"
      ]
     },
     "execution_count": 78,
     "metadata": {},
     "output_type": "execute_result"
    }
   ],
   "source": [
    "np.array([[1,2,3,4],[5,6,7,8]])"
   ]
  },
  {
   "cell_type": "markdown",
   "id": "97d3a614",
   "metadata": {},
   "source": [
    "Array of zeros\n",
    "--------------"
   ]
  },
  {
   "cell_type": "code",
   "execution_count": 79,
   "id": "dd84e1ad",
   "metadata": {},
   "outputs": [
    {
     "data": {
      "text/plain": [
       "array([0., 0., 0., 0., 0.])"
      ]
     },
     "execution_count": 79,
     "metadata": {},
     "output_type": "execute_result"
    }
   ],
   "source": [
    "np.zeros(5)"
   ]
  },
  {
   "cell_type": "code",
   "execution_count": 80,
   "id": "bac8498b",
   "metadata": {},
   "outputs": [
    {
     "data": {
      "text/plain": [
       "array([[0., 0., 0.],\n",
       "       [0., 0., 0.]])"
      ]
     },
     "execution_count": 80,
     "metadata": {},
     "output_type": "execute_result"
    }
   ],
   "source": [
    "np.zeros((2,3))"
   ]
  },
  {
   "cell_type": "markdown",
   "id": "5fa7c56a",
   "metadata": {},
   "source": [
    "Array of ones\n",
    "-------------------"
   ]
  },
  {
   "cell_type": "code",
   "execution_count": 81,
   "id": "0c331d1b",
   "metadata": {},
   "outputs": [
    {
     "data": {
      "text/plain": [
       "array([1., 1., 1., 1., 1.])"
      ]
     },
     "execution_count": 81,
     "metadata": {},
     "output_type": "execute_result"
    }
   ],
   "source": [
    "np.ones(5)"
   ]
  },
  {
   "cell_type": "code",
   "execution_count": 82,
   "id": "9ca8290e",
   "metadata": {},
   "outputs": [
    {
     "data": {
      "text/plain": [
       "array([[1., 1., 1.],\n",
       "       [1., 1., 1.]])"
      ]
     },
     "execution_count": 82,
     "metadata": {},
     "output_type": "execute_result"
    }
   ],
   "source": [
    "np.ones((2,3))"
   ]
  },
  {
   "cell_type": "markdown",
   "id": "7b1171f6",
   "metadata": {},
   "source": [
    "Random numbers in ndarrays\n",
    "------------------------------------------"
   ]
  },
  {
   "cell_type": "code",
   "execution_count": 83,
   "id": "a3e6246b",
   "metadata": {},
   "outputs": [
    {
     "data": {
      "text/plain": [
       "array([[0.04706173, 0.08078551, 0.86037193],\n",
       "       [0.48712283, 0.89834741, 0.0384338 ]])"
      ]
     },
     "execution_count": 83,
     "metadata": {},
     "output_type": "execute_result"
    }
   ],
   "source": [
    "np.random.rand(2,3)"
   ]
  },
  {
   "cell_type": "markdown",
   "id": "95496ac8",
   "metadata": {},
   "source": [
    "An array of your choice\n",
    "---------------------------------"
   ]
  },
  {
   "cell_type": "code",
   "execution_count": 84,
   "id": "b38334ba",
   "metadata": {},
   "outputs": [
    {
     "data": {
      "text/plain": [
       "array([[7, 7],\n",
       "       [7, 7]])"
      ]
     },
     "execution_count": 84,
     "metadata": {},
     "output_type": "execute_result"
    }
   ],
   "source": [
    "np.full((2,2),7)"
   ]
  },
  {
   "cell_type": "markdown",
   "id": "f3b23eaa",
   "metadata": {},
   "source": [
    "Imatrix in NumPy(Identity Matrix)\n",
    "-----------------------------------------------"
   ]
  },
  {
   "cell_type": "code",
   "execution_count": 85,
   "id": "3a3bcee5",
   "metadata": {},
   "outputs": [
    {
     "data": {
      "text/plain": [
       "array([[1., 0., 0.],\n",
       "       [0., 1., 0.],\n",
       "       [0., 0., 1.]])"
      ]
     },
     "execution_count": 85,
     "metadata": {},
     "output_type": "execute_result"
    }
   ],
   "source": [
    "np.eye(3)"
   ]
  },
  {
   "cell_type": "markdown",
   "id": "c77c671d",
   "metadata": {},
   "source": [
    "Evenly spaced ndarray\n",
    "--------------------------------"
   ]
  },
  {
   "cell_type": "code",
   "execution_count": 86,
   "id": "1ce71743",
   "metadata": {},
   "outputs": [
    {
     "data": {
      "text/plain": [
       "array([0, 1, 2, 3, 4])"
      ]
     },
     "execution_count": 86,
     "metadata": {},
     "output_type": "execute_result"
    }
   ],
   "source": [
    "np.arange(5)"
   ]
  },
  {
   "cell_type": "markdown",
   "id": "789d29a1",
   "metadata": {},
   "source": [
    "The start, end and step size of the interval of values can be explicitly defined by passing in three numbers as arguments for these values respectively."
   ]
  },
  {
   "cell_type": "code",
   "execution_count": 87,
   "id": "c68d701d",
   "metadata": {},
   "outputs": [
    {
     "data": {
      "text/plain": [
       "array([2, 4, 6, 8])"
      ]
     },
     "execution_count": 87,
     "metadata": {},
     "output_type": "execute_result"
    }
   ],
   "source": [
    "np.arange(2,10,2)"
   ]
  },
  {
   "cell_type": "markdown",
   "id": "783fd84c",
   "metadata": {},
   "source": [
    "Another similar function is np.linspace(), but instead of step size, it takes in the number of samples that need to be retrieved from the interval."
   ]
  },
  {
   "cell_type": "code",
   "execution_count": 88,
   "id": "e16d2a51",
   "metadata": {},
   "outputs": [
    {
     "data": {
      "text/plain": [
       "array([0.  , 0.25, 0.5 , 0.75, 1.  ])"
      ]
     },
     "execution_count": 88,
     "metadata": {},
     "output_type": "execute_result"
    }
   ],
   "source": [
    "np.linspace(0,1,5)"
   ]
  },
  {
   "cell_type": "markdown",
   "id": "67570dcf",
   "metadata": {},
   "source": [
    "2.Shape and Reshaping of NumPy Arrays\n",
    "-----------------------------------------------------------"
   ]
  },
  {
   "cell_type": "markdown",
   "id": "d55da2e5",
   "metadata": {},
   "source": [
    "The shape is an attribute of the NumPy array that shows how many rows of elements are there along each dimension. "
   ]
  },
  {
   "cell_type": "code",
   "execution_count": 89,
   "id": "be23a0c9",
   "metadata": {},
   "outputs": [
    {
     "data": {
      "text/plain": [
       "(2, 3)"
      ]
     },
     "execution_count": 89,
     "metadata": {},
     "output_type": "execute_result"
    }
   ],
   "source": [
    "a = np.array([[1,2,3],[4,5,6]])\n",
    "a.shape"
   ]
  },
  {
   "cell_type": "markdown",
   "id": "5216bf8c",
   "metadata": {},
   "source": [
    "You can determine how many values there are in the array using the size attribute."
   ]
  },
  {
   "cell_type": "code",
   "execution_count": 90,
   "id": "9e935f84",
   "metadata": {},
   "outputs": [
    {
     "data": {
      "text/plain": [
       "6"
      ]
     },
     "execution_count": 90,
     "metadata": {},
     "output_type": "execute_result"
    }
   ],
   "source": [
    "a.size"
   ]
  },
  {
   "cell_type": "markdown",
   "id": "b9a8d9db",
   "metadata": {},
   "source": [
    "Reshaping a ndarray changes the shape of the ndarray without changing the data within the ndarray:"
   ]
  },
  {
   "cell_type": "code",
   "execution_count": 91,
   "id": "f177c454",
   "metadata": {},
   "outputs": [
    {
     "data": {
      "text/plain": [
       "array([[ 3,  6],\n",
       "       [ 9, 12]])"
      ]
     },
     "execution_count": 91,
     "metadata": {},
     "output_type": "execute_result"
    }
   ],
   "source": [
    "a = np.array([3,6,9,12])\n",
    "np.reshape(a,(2,2))"
   ]
  },
  {
   "cell_type": "markdown",
   "id": "df0bc43e",
   "metadata": {},
   "source": [
    "Flattening a NumPy array\n",
    "------------------------------------\n",
    "Sometimes when you have a multidimensional array and want to collapse it to a single-dimensional array, you can either use the flatten() method or the ravel() method:"
   ]
  },
  {
   "cell_type": "code",
   "execution_count": 92,
   "id": "307adf83",
   "metadata": {},
   "outputs": [],
   "source": [
    "a = np.ones((2,2))\n",
    "b = a.flatten()\n",
    "c = a.ravel()"
   ]
  },
  {
   "cell_type": "code",
   "execution_count": 93,
   "id": "2861b4b7",
   "metadata": {},
   "outputs": [
    {
     "data": {
      "text/plain": [
       "array([1., 1., 1., 1.])"
      ]
     },
     "execution_count": 93,
     "metadata": {},
     "output_type": "execute_result"
    }
   ],
   "source": [
    "b"
   ]
  },
  {
   "cell_type": "code",
   "execution_count": 94,
   "id": "6d12b3c5",
   "metadata": {},
   "outputs": [
    {
     "data": {
      "text/plain": [
       "array([1., 1., 1., 1.])"
      ]
     },
     "execution_count": 94,
     "metadata": {},
     "output_type": "execute_result"
    }
   ],
   "source": [
    "c"
   ]
  },
  {
   "cell_type": "markdown",
   "id": "ba27d2e9",
   "metadata": {},
   "source": [
    "3.Indexing and Slicing of NumPy array\n",
    "-------------------------------------------------------"
   ]
  },
  {
   "cell_type": "markdown",
   "id": "aab7a9f7",
   "metadata": {},
   "source": [
    "Slicing 1-D NumPy arrays\n",
    "Slicing means retrieving elements from one index to another index. All we have to do is to pass the starting and ending point in the index like this: [start: end]."
   ]
  },
  {
   "cell_type": "code",
   "execution_count": 95,
   "id": "c7af3994",
   "metadata": {},
   "outputs": [
    {
     "name": "stdout",
     "output_type": "stream",
     "text": [
      "[2 3 4 5]\n"
     ]
    }
   ],
   "source": [
    "a = np.array([1,2,3,4,5,6])\n",
    "print(a[1:5])"
   ]
  },
  {
   "cell_type": "markdown",
   "id": "b6a6803d",
   "metadata": {},
   "source": [
    "Incorporating all this into a single index would look something like this: [start:end:step-size]."
   ]
  },
  {
   "cell_type": "code",
   "execution_count": 96,
   "id": "c86a5711",
   "metadata": {},
   "outputs": [
    {
     "name": "stdout",
     "output_type": "stream",
     "text": [
      "[2 4]\n"
     ]
    }
   ],
   "source": [
    "a = np.array([1,2,3,4,5,6])\n",
    "print(a[1:5:2])"
   ]
  },
  {
   "cell_type": "markdown",
   "id": "a0624522",
   "metadata": {},
   "source": [
    "If you don’t specify the start or end index, it is taken as 0 or array size, respectively, as default. And the step-size by default is 1."
   ]
  },
  {
   "cell_type": "code",
   "execution_count": 97,
   "id": "2199f9a3",
   "metadata": {},
   "outputs": [
    {
     "name": "stdout",
     "output_type": "stream",
     "text": [
      "[1 3 5]\n"
     ]
    }
   ],
   "source": [
    "print(a[:6:2])"
   ]
  },
  {
   "cell_type": "code",
   "execution_count": 98,
   "id": "24c8978d",
   "metadata": {},
   "outputs": [
    {
     "name": "stdout",
     "output_type": "stream",
     "text": [
      "[2 4 6]\n"
     ]
    }
   ],
   "source": [
    "print(a[1::2])"
   ]
  },
  {
   "cell_type": "code",
   "execution_count": 99,
   "id": "79806e53",
   "metadata": {},
   "outputs": [
    {
     "name": "stdout",
     "output_type": "stream",
     "text": [
      "[2 3 4 5 6]\n"
     ]
    }
   ],
   "source": [
    "print(a[1:6:])"
   ]
  },
  {
   "cell_type": "markdown",
   "id": "302c5d7d",
   "metadata": {},
   "source": [
    "Slicing 2-D arrays"
   ]
  },
  {
   "cell_type": "code",
   "execution_count": 100,
   "id": "addeb594",
   "metadata": {},
   "outputs": [
    {
     "name": "stdout",
     "output_type": "stream",
     "text": [
      "Arbitrary values : \n",
      " [[2 3]\n",
      " [5 6]]\n"
     ]
    }
   ],
   "source": [
    "a = np.array([[1,2,3],[4,5,6]])\n",
    "print('Arbitrary values :','\\n',a[0:2,1:3])"
   ]
  },
  {
   "cell_type": "markdown",
   "id": "327c7a34",
   "metadata": {},
   "source": [
    "Negative slicing of NumPy arrays"
   ]
  },
  {
   "cell_type": "code",
   "execution_count": 101,
   "id": "add60da4",
   "metadata": {},
   "outputs": [
    {
     "name": "stdout",
     "output_type": "stream",
     "text": [
      "[[3 2]\n",
      " [6 5]]\n"
     ]
    }
   ],
   "source": [
    "print(a[:,-1:-3:-1])"
   ]
  },
  {
   "cell_type": "markdown",
   "id": "5cdb48ef",
   "metadata": {},
   "source": [
    "4.Appending Numpy Arrays\n",
    "----------------------"
   ]
  },
  {
   "cell_type": "markdown",
   "id": "32571d48",
   "metadata": {},
   "source": [
    "Another very useful function is the \"append\" method that adds new elements to the end of a ndarray. This is obviously useful when you already have an existing ndarray but want to add new values to it."
   ]
  },
  {
   "cell_type": "code",
   "execution_count": 102,
   "id": "df550e40",
   "metadata": {},
   "outputs": [
    {
     "data": {
      "text/plain": [
       "array([[1, 2],\n",
       "       [3, 4],\n",
       "       [5, 6]])"
      ]
     },
     "execution_count": 102,
     "metadata": {},
     "output_type": "execute_result"
    }
   ],
   "source": [
    "a = np.array([[1,2],\n",
    "             [3,4]])\n",
    "np.append(a,[[5,6]],axis=0)"
   ]
  },
  {
   "cell_type": "markdown",
   "id": "bd2090fc",
   "metadata": {},
   "source": [
    "5.Broadcasting in NumPy array\n",
    "---------------------------\n",
    "Broadcasting is one of the best features of ndarrays. It lets you perform arithmetics operations between ndarrays of different sizes or between an ndarray and a simple number!"
   ]
  },
  {
   "cell_type": "code",
   "execution_count": 103,
   "id": "7d5cc81b",
   "metadata": {},
   "outputs": [
    {
     "name": "stdout",
     "output_type": "stream",
     "text": [
      "[[12 14 16 18 20]\n",
      " [12 14 16 18 20]]\n",
      "\n",
      "[20 24 28 32 36]\n"
     ]
    }
   ],
   "source": [
    "a = np.arange(10,20,2)\n",
    "b = np.array([[2],[2]])\n",
    "print(a+b)\n",
    "print()\n",
    "print(a*2)"
   ]
  },
  {
   "cell_type": "markdown",
   "id": "880551e8",
   "metadata": {},
   "source": [
    "Basic arithmetic operations"
   ]
  },
  {
   "cell_type": "code",
   "execution_count": 104,
   "id": "1959e5eb",
   "metadata": {},
   "outputs": [
    {
     "name": "stdout",
     "output_type": "stream",
     "text": [
      "[ 5  7  9 11 13]\n",
      "[50 60 70 80 90]\n",
      "[2.  2.4 2.8 3.2 3.6]\n",
      "[100 144 196 256 324]\n",
      "[0 2 4 1 3]\n"
     ]
    }
   ],
   "source": [
    "print(a-5)\n",
    "print(a*5)\n",
    "print(a/5)\n",
    "print(a**2)\n",
    "print(a%5)"
   ]
  },
  {
   "cell_type": "markdown",
   "id": "5aaf401b",
   "metadata": {},
   "source": [
    "Mean, Median and Standard deviation"
   ]
  },
  {
   "cell_type": "code",
   "execution_count": 105,
   "id": "67c58b9e",
   "metadata": {},
   "outputs": [
    {
     "name": "stdout",
     "output_type": "stream",
     "text": [
      "Mean :  9.0\n",
      "Standard Deviation : 2.8284271247461903\n",
      "Median : 9.0\n"
     ]
    }
   ],
   "source": [
    "a = np.arange(5,15,2)\n",
    "print(\"Mean : \", np.mean(a))\n",
    "print(\"Standard Deviation :\",np.std(a))\n",
    "print(\"Median :\",np.median(a))"
   ]
  },
  {
   "cell_type": "markdown",
   "id": "ca001994",
   "metadata": {},
   "source": [
    "Min-Max values and their indexes"
   ]
  },
  {
   "cell_type": "code",
   "execution_count": 106,
   "id": "bc6b3779",
   "metadata": {},
   "outputs": [
    {
     "name": "stdout",
     "output_type": "stream",
     "text": [
      "Min : 5\n",
      "Index of Min : 0\n",
      "Max : 13\n",
      "Index of Max : 4\n"
     ]
    }
   ],
   "source": [
    "print('Min :',np.min(a))\n",
    "print('Index of Min :',np.argmin(a))\n",
    "\n",
    "print('Max :',np.max(a))\n",
    "print('Index of Max :',np.argmax(a))"
   ]
  },
  {
   "cell_type": "code",
   "execution_count": 107,
   "id": "2fa0bb18",
   "metadata": {},
   "outputs": [
    {
     "data": {
      "text/plain": [
       "array([9, 2, 8, 4, 7, 3, 1, 6, 5])"
      ]
     },
     "execution_count": 107,
     "metadata": {},
     "output_type": "execute_result"
    }
   ],
   "source": [
    "a=np.array([9, 2, 8, 4, 7, 3, 1, 6, 5])\n",
    "a"
   ]
  },
  {
   "cell_type": "markdown",
   "id": "89a9582e",
   "metadata": {},
   "source": [
    "6.Sorting in NumPy arrays\n",
    "--------------------------------"
   ]
  },
  {
   "cell_type": "code",
   "execution_count": 108,
   "id": "46407551",
   "metadata": {},
   "outputs": [
    {
     "data": {
      "text/plain": [
       "array([1, 2, 3, 4, 5, 6, 7, 8, 9])"
      ]
     },
     "execution_count": 108,
     "metadata": {},
     "output_type": "execute_result"
    }
   ],
   "source": [
    "np.sort(a)"
   ]
  }
 ],
 "metadata": {
  "kernelspec": {
   "display_name": "Python 3 (ipykernel)",
   "language": "python",
   "name": "python3"
  },
  "language_info": {
   "codemirror_mode": {
    "name": "ipython",
    "version": 3
   },
   "file_extension": ".py",
   "mimetype": "text/x-python",
   "name": "python",
   "nbconvert_exporter": "python",
   "pygments_lexer": "ipython3",
   "version": "3.9.7"
  }
 },
 "nbformat": 4,
 "nbformat_minor": 5
}
